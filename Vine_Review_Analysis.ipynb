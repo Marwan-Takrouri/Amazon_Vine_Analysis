{
  "nbformat": 4,
  "nbformat_minor": 0,
  "metadata": {
    "colab": {
      "name": "Vine_Review_Analysis",
      "provenance": [],
      "collapsed_sections": []
    },
    "kernelspec": {
      "name": "python3",
      "display_name": "Python 3"
    },
    "language_info": {
      "name": "python"
    }
  },
  "cells": [
    {
      "cell_type": "code",
      "execution_count": 2,
      "metadata": {
        "colab": {
          "base_uri": "https://localhost:8080/"
        },
        "id": "ENUnr9v8xrcG",
        "outputId": "4e95b7a6-0ce9-47b8-da7e-8863a4a11c92"
      },
      "outputs": [
        {
          "output_type": "stream",
          "name": "stdout",
          "text": [
            "\r0% [Working]\r            \rHit:1 https://developer.download.nvidia.com/compute/cuda/repos/ubuntu1804/x86_64  InRelease\n",
            "\r0% [Connecting to archive.ubuntu.com (185.125.190.36)] [Connecting to security.\r                                                                               \rGet:2 https://cloud.r-project.org/bin/linux/ubuntu bionic-cran40/ InRelease [3,626 B]\n",
            "\r0% [Connecting to archive.ubuntu.com (185.125.190.36)] [Connecting to security.\r0% [1 InRelease gpgv 1,575 B] [Connecting to archive.ubuntu.com (185.125.190.36\r                                                                               \rIgn:3 https://developer.download.nvidia.com/compute/machine-learning/repos/ubuntu1804/x86_64  InRelease\n",
            "Hit:4 https://developer.download.nvidia.com/compute/machine-learning/repos/ubuntu1804/x86_64  Release\n",
            "Hit:5 http://archive.ubuntu.com/ubuntu bionic InRelease\n",
            "Get:6 http://ppa.launchpad.net/c2d4u.team/c2d4u4.0+/ubuntu bionic InRelease [15.9 kB]\n",
            "Get:7 http://security.ubuntu.com/ubuntu bionic-security InRelease [88.7 kB]\n",
            "Get:8 http://archive.ubuntu.com/ubuntu bionic-updates InRelease [88.7 kB]\n",
            "Hit:9 http://ppa.launchpad.net/cran/libgit2/ubuntu bionic InRelease\n",
            "Get:11 http://archive.ubuntu.com/ubuntu bionic-backports InRelease [74.6 kB]\n",
            "Hit:12 http://ppa.launchpad.net/deadsnakes/ppa/ubuntu bionic InRelease\n",
            "Hit:13 http://ppa.launchpad.net/graphics-drivers/ppa/ubuntu bionic InRelease\n",
            "Get:14 http://ppa.launchpad.net/c2d4u.team/c2d4u4.0+/ubuntu bionic/main Sources [1,950 kB]\n",
            "Get:15 http://archive.ubuntu.com/ubuntu bionic-updates/main amd64 Packages [3,167 kB]\n",
            "Get:16 http://ppa.launchpad.net/c2d4u.team/c2d4u4.0+/ubuntu bionic/main amd64 Packages [1,000 kB]\n",
            "Fetched 6,388 kB in 4s (1,743 kB/s)\n",
            "Reading package lists... Done\n"
          ]
        }
      ],
      "source": [
        "import os\n",
        "# Find the latest version of spark 3.0  from http://www.apache.org/dist/spark/ and enter as the spark version\n",
        "# For example:\n",
        "# spark_version = 'spark3.0.3'\n",
        "spark_version = 'spark-3.0.3'\n",
        "os.environ['SPARK_VERSION']=spark_version\n",
        "\n",
        "# Install Spark and Java\n",
        "!apt-get update\n",
        "!apt-get install openjdk-11-jdk-headless -qq > /dev/null\n",
        "!wget -q http://www.apache.org/dist/spark/$SPARK_VERSION/$SPARK_VERSION-bin-hadoop2.7.tgz\n",
        "!tar xf $SPARK_VERSION-bin-hadoop2.7.tgz\n",
        "!pip install -q findspark\n",
        "\n",
        "# Set Environment Variables\n",
        "os.environ[\"JAVA_HOME\"] = \"/usr/lib/jvm/java-11-openjdk-amd64\"\n",
        "os.environ[\"SPARK_HOME\"] = f\"/content/{spark_version}-bin-hadoop2.7\"\n",
        "\n",
        "# Start a SparkSession\n",
        "import findspark\n",
        "findspark.init()"
      ]
    },
    {
      "cell_type": "code",
      "source": [
        "!wget https://jdbc.postgresql.org/download/postgresql-42.2.16.jar"
      ],
      "metadata": {
        "colab": {
          "base_uri": "https://localhost:8080/"
        },
        "id": "cNEap5eSx7G6",
        "outputId": "66f96a6e-863d-4869-a84f-e863b6fc5716"
      },
      "execution_count": 3,
      "outputs": [
        {
          "output_type": "stream",
          "name": "stdout",
          "text": [
            "--2022-05-01 02:20:58--  https://jdbc.postgresql.org/download/postgresql-42.2.16.jar\n",
            "Resolving jdbc.postgresql.org (jdbc.postgresql.org)... 72.32.157.228, 2001:4800:3e1:1::228\n",
            "Connecting to jdbc.postgresql.org (jdbc.postgresql.org)|72.32.157.228|:443... connected.\n",
            "HTTP request sent, awaiting response... 200 OK\n",
            "Length: 1002883 (979K) [application/java-archive]\n",
            "Saving to: ‘postgresql-42.2.16.jar’\n",
            "\n",
            "postgresql-42.2.16. 100%[===================>] 979.38K  4.97MB/s    in 0.2s    \n",
            "\n",
            "2022-05-01 02:20:59 (4.97 MB/s) - ‘postgresql-42.2.16.jar’ saved [1002883/1002883]\n",
            "\n"
          ]
        }
      ]
    },
    {
      "cell_type": "code",
      "source": [
        "from pyspark.sql import SparkSession\n",
        "spark = SparkSession.builder.appName(\"M16-Amazon-Challenge\").config(\"spark.driver.extraClassPath\",\"/content/postgresql-42.2.16.jar\").getOrCreate()"
      ],
      "metadata": {
        "id": "MLww5kS-yjna"
      },
      "execution_count": 4,
      "outputs": []
    },
    {
      "cell_type": "code",
      "source": [
        "\n",
        "from pyspark import SparkFiles\n",
        "url = \"https://marwantakrouri.s3.ca-central-1.amazonaws.com/amazon_reviews_us_Wireless_v1_00.tsv.gz\"\n",
        "spark.sparkContext.addFile(url)\n",
        "df = spark.read.option(\"encoding\", \"UTF-8\").csv(SparkFiles.get(\"amazon_reviews_us_Wireless_v1_00.tsv.gz\"), sep=\"\\t\", header=True , inferSchema=True)\n",
        "df.show()\n"
      ],
      "metadata": {
        "colab": {
          "base_uri": "https://localhost:8080/"
        },
        "id": "i1SkBYxKyxhZ",
        "outputId": "ed1765e8-a485-46ce-e562-bc11ac0d129a"
      },
      "execution_count": 5,
      "outputs": [
        {
          "output_type": "stream",
          "name": "stdout",
          "text": [
            "+-----------+-----------+--------------+----------+--------------+--------------------+----------------+-----------+-------------+-----------+----+-----------------+--------------------+--------------------+-----------+\n",
            "|marketplace|customer_id|     review_id|product_id|product_parent|       product_title|product_category|star_rating|helpful_votes|total_votes|vine|verified_purchase|     review_headline|         review_body|review_date|\n",
            "+-----------+-----------+--------------+----------+--------------+--------------------+----------------+-----------+-------------+-----------+----+-----------------+--------------------+--------------------+-----------+\n",
            "|         US|   16414143|R3W4P9UBGNGH1U|B00YL0EKWE|     852431543|LG G4 Case Hard T...|        Wireless|          2|            1|          3|   N|                Y|Looks good, funct...|2 issues  -  Once...| 2015-08-31|\n",
            "|         US|   50800750|R15V54KBMTQWAY|B00XK95RPQ|     516894650|Selfie Stick Fibl...|        Wireless|          4|            0|          0|   N|                N| A fun little gadget|I’m embarrassed t...| 2015-08-31|\n",
            "|         US|   15184378| RY8I449HNXSVF|B00SXRXUKO|     984297154|Tribe AB40 Water ...|        Wireless|          5|            0|          0|   N|                Y|          Five Stars|  Fits iPhone 6 well| 2015-08-31|\n",
            "|         US|   10203548|R18TLJYCKJFLSR|B009V5X1CE|     279912704|RAVPower® Element...|        Wireless|          5|            0|          0|   N|                Y|       Great charger|Great charger.  I...| 2015-08-31|\n",
            "|         US|     488280|R1NK26SWS53B8Q|B00D93OVF0|     662791300|Fosmon Micro USB ...|        Wireless|          5|            0|          0|   N|                Y|          Five Stars|Great for the pri...| 2015-08-31|\n",
            "|         US|   13334021|R11LOHEDYJALTN|B00XVGJMDQ|     421688488|iPhone 6 Case, Vo...|        Wireless|          5|            0|          0|   N|                Y|          Five Stars|Great Case, bette...| 2015-08-31|\n",
            "|         US|   27520697|R3ALQVQB2P9LA7|B00KQW1X1C|     554285554|Nokia Lumia 630 R...|        Wireless|          4|            0|          0|   N|                Y|          Four Stars|Easy to set up an...| 2015-08-31|\n",
            "|         US|   48086021|R3MWLXLNO21PDQ|B00IP1MQNK|     488006702|Lumsing 10400mah ...|        Wireless|          5|            0|          0|   N|                Y|          Five Stars|         Works great| 2015-08-31|\n",
            "|         US|   12738196|R2L15IS24CX0LI|B00HVORET8|     389677711|iPhone 5S Battery...|        Wireless|          5|            0|          0|   N|                Y|      So far so good|So far so good. I...| 2015-08-31|\n",
            "|         US|   15867807|R1DJ8976WPWVZU|B00HX3G6J6|     299654876|HTC One M8 Screen...|        Wireless|          3|            0|          0|   N|                Y|seems durable but...|seems durable but...| 2015-08-31|\n",
            "|         US|    1972249|R3MRWNNR8CBTB7|B00U4NATNQ|     577878727|S6 Case - Bear Mo...|        Wireless|          5|            0|          0|   N|                Y|Super thin, light...|Super thin, light...| 2015-08-31|\n",
            "|         US|   10956619|R1DS6DKTUXAQK3|B00SZEFDH8|     654620704|BLU Studio X, Unl...|        Wireless|          5|            0|          0|   N|                Y|          Five Stars|As good as the Sa...| 2015-08-31|\n",
            "|         US|   14805911| RWJM5E0TWUJD2|B00JRJUL9U|     391166958|EZOPower 5-Port U...|        Wireless|          5|            0|          0|   N|                Y|            EZOPower|I received this o...| 2015-08-31|\n",
            "|         US|   15611116|R1XTJKDYNCRGAC|B00KQ4T0HE|     481551630|iPhone 6S Case &i...|        Wireless|          1|            0|          0|   N|                Y|Very cheap case. ...|Very cheap case. ...| 2015-08-31|\n",
            "|         US|   39298603|R2UZL3DPWEU1XW|B00M0YWKPM|     685107474| iPhone 6s Plus Case|        Wireless|          5|            0|          0|   N|                Y|          Five Stars|       son loves it.| 2015-08-31|\n",
            "|         US|   17552454|R2EZXET9KBFFU3|B00KDZEE68|     148320945|zBoost ZB575-A TR...|        Wireless|          1|            0|          0|   N|                Y|            One Star|you have to turn ...| 2015-08-31|\n",
            "|         US|   12218556|R26VY1L1FD3LPU|B00BJN45GM|      47788188|OtterBox Defender...|        Wireless|          5|            0|          0|   N|                Y|          Five Stars|  Awesome, thank you| 2015-08-31|\n",
            "|         US|   21872923|R2SSA4NSFCV18T|B00SA86SXW|     748759272|Aduro PowerUP 30W...|        Wireless|          5|            0|          0|   N|                N|          Five Stars|         nice, smart| 2015-08-31|\n",
            "|         US|   16264332|R1G6333JHJNEUQ|B00Q3I68TU|     974085141|LilGadgets Connec...|        Wireless|          5|            0|          0|   N|                Y|Great headphones ...|We love these hea...| 2015-08-31|\n",
            "|         US|    6042304|R2DRG0UZXJQ0PE|B00TN4J1TA|     716174627|Anker Aluminum Mu...|        Wireless|          5|            0|          0|   N|                Y|          Five Stars|This is well wort...| 2015-08-31|\n",
            "+-----------+-----------+--------------+----------+--------------+--------------------+----------------+-----------+-------------+-----------+----+-----------------+--------------------+--------------------+-----------+\n",
            "only showing top 20 rows\n",
            "\n"
          ]
        }
      ]
    },
    {
      "cell_type": "code",
      "source": [
        "from pyspark.sql.functions import to_date"
      ],
      "metadata": {
        "id": "HXVIkz83_y2H"
      },
      "execution_count": 6,
      "outputs": []
    },
    {
      "cell_type": "code",
      "source": [
        "# Create the customers_table DataFrame\n",
        "customers_df = df.groupby(\"customer_id\").agg({\"customer_id\":\"count\"}).withColumnRenamed(\"count(customer_id)\", \"customer_count\")\n",
        "\n",
        "customers_df.show()\n"
      ],
      "metadata": {
        "colab": {
          "base_uri": "https://localhost:8080/"
        },
        "id": "odv4tL9hAJqu",
        "outputId": "6761a5b4-c28b-4d36-ba3d-ac912db28992"
      },
      "execution_count": 7,
      "outputs": [
        {
          "output_type": "stream",
          "name": "stdout",
          "text": [
            "+-----------+--------------+\n",
            "|customer_id|customer_count|\n",
            "+-----------+--------------+\n",
            "|   46909180|             6|\n",
            "|   42560427|             7|\n",
            "|   43789873|             3|\n",
            "|   22037526|             2|\n",
            "|   34220092|             2|\n",
            "|   42801586|             1|\n",
            "|    9565734|             2|\n",
            "|   15829398|             1|\n",
            "|   38247118|             1|\n",
            "|   32478248|             2|\n",
            "|   48114630|             1|\n",
            "|   23085063|             1|\n",
            "|   32787070|             3|\n",
            "|   43515569|             1|\n",
            "|    4919528|             2|\n",
            "|    5088547|             2|\n",
            "|   41852407|             3|\n",
            "|   49703087|             1|\n",
            "|   12713799|             1|\n",
            "|   36728141|             8|\n",
            "+-----------+--------------+\n",
            "only showing top 20 rows\n",
            "\n"
          ]
        }
      ]
    },
    {
      "cell_type": "code",
      "source": [
        "# Create the products_table DataFrame and drop duplicates. \n",
        "products_df = df.select([\"product_id\",\"product_title\"]).drop_duplicates(subset=[\"product_id\"])\n",
        "products_df.show()"
      ],
      "metadata": {
        "colab": {
          "base_uri": "https://localhost:8080/"
        },
        "id": "tsqO1516AwkT",
        "outputId": "1d954a28-f969-446c-aeac-e059fb18dab0"
      },
      "execution_count": 8,
      "outputs": [
        {
          "output_type": "stream",
          "name": "stdout",
          "text": [
            "+----------+--------------------+\n",
            "|product_id|       product_title|\n",
            "+----------+--------------------+\n",
            "|1060104342|Premium Asus MeMO...|\n",
            "|159775045X|National Geograph...|\n",
            "|5891090414|           STAND-N02|\n",
            "|6175001532|Colorful Abstract...|\n",
            "|9572548964|Pink Flower Purpl...|\n",
            "|9713000463|Rapid Charger KIT...|\n",
            "|9838427853|PowerBear® Samsun...|\n",
            "|9861033181|Purple Flower Blu...|\n",
            "|9983781239|PREMIUM USB Adapt...|\n",
            "|9984225437|Sanyo MM-8300 Sta...|\n",
            "|B00000J0IV|Magellan Leather ...|\n",
            "|B00000J1PX|Cobra MAVOX Voice...|\n",
            "|B00003OPEV|Garmin eMap Delux...|\n",
            "|B0000520T4|Ericsson 650 mAh ...|\n",
            "|B00005I9QK|Aquapac Waterproo...|\n",
            "|B00005QT35|Garmin GPS 45 Per...|\n",
            "|B00006JP9X|AMERICAN INTERNAT...|\n",
            "|B00007EDL7|Sony DCC-E34CP Po...|\n",
            "|B00008E1OH|Samsung Leather C...|\n",
            "|B00008RCQS|Virgin Mobile Pay...|\n",
            "+----------+--------------------+\n",
            "only showing top 20 rows\n",
            "\n"
          ]
        }
      ]
    },
    {
      "cell_type": "code",
      "source": [
        "# Create the review_id_table DataFrame. \n",
        "\n",
        "# Convert the 'review_date' column to a date datatype with to_date(\"review_date\", 'yyyy-MM-dd').alias(\"review_date\")\n",
        "#review_id_df = df.select([\"review_id\",\"customer_id\",\"product_id\",\"product_parent\", to_date (\"review_date\", \"yyyy-MM-dd\").alias(\"review_date\")])\n",
        "review_id_df= df.select([\"review_id\", \"customer_id\",\"product_id\", \"product_parent\", to_date(\"review_date\", \"yyyy-MM-dd\").alias(\"review_date\")])\n",
        "review_id_df.show()\n",
        "\n"
      ],
      "metadata": {
        "colab": {
          "base_uri": "https://localhost:8080/"
        },
        "id": "zl7z1qglBloT",
        "outputId": "206f00e0-6c74-49b0-a6ef-d22cf9eedacd"
      },
      "execution_count": 9,
      "outputs": [
        {
          "output_type": "stream",
          "name": "stdout",
          "text": [
            "+--------------+-----------+----------+--------------+-----------+\n",
            "|     review_id|customer_id|product_id|product_parent|review_date|\n",
            "+--------------+-----------+----------+--------------+-----------+\n",
            "|R3W4P9UBGNGH1U|   16414143|B00YL0EKWE|     852431543| 2015-08-31|\n",
            "|R15V54KBMTQWAY|   50800750|B00XK95RPQ|     516894650| 2015-08-31|\n",
            "| RY8I449HNXSVF|   15184378|B00SXRXUKO|     984297154| 2015-08-31|\n",
            "|R18TLJYCKJFLSR|   10203548|B009V5X1CE|     279912704| 2015-08-31|\n",
            "|R1NK26SWS53B8Q|     488280|B00D93OVF0|     662791300| 2015-08-31|\n",
            "|R11LOHEDYJALTN|   13334021|B00XVGJMDQ|     421688488| 2015-08-31|\n",
            "|R3ALQVQB2P9LA7|   27520697|B00KQW1X1C|     554285554| 2015-08-31|\n",
            "|R3MWLXLNO21PDQ|   48086021|B00IP1MQNK|     488006702| 2015-08-31|\n",
            "|R2L15IS24CX0LI|   12738196|B00HVORET8|     389677711| 2015-08-31|\n",
            "|R1DJ8976WPWVZU|   15867807|B00HX3G6J6|     299654876| 2015-08-31|\n",
            "|R3MRWNNR8CBTB7|    1972249|B00U4NATNQ|     577878727| 2015-08-31|\n",
            "|R1DS6DKTUXAQK3|   10956619|B00SZEFDH8|     654620704| 2015-08-31|\n",
            "| RWJM5E0TWUJD2|   14805911|B00JRJUL9U|     391166958| 2015-08-31|\n",
            "|R1XTJKDYNCRGAC|   15611116|B00KQ4T0HE|     481551630| 2015-08-31|\n",
            "|R2UZL3DPWEU1XW|   39298603|B00M0YWKPM|     685107474| 2015-08-31|\n",
            "|R2EZXET9KBFFU3|   17552454|B00KDZEE68|     148320945| 2015-08-31|\n",
            "|R26VY1L1FD3LPU|   12218556|B00BJN45GM|      47788188| 2015-08-31|\n",
            "|R2SSA4NSFCV18T|   21872923|B00SA86SXW|     748759272| 2015-08-31|\n",
            "|R1G6333JHJNEUQ|   16264332|B00Q3I68TU|     974085141| 2015-08-31|\n",
            "|R2DRG0UZXJQ0PE|    6042304|B00TN4J1TA|     716174627| 2015-08-31|\n",
            "+--------------+-----------+----------+--------------+-----------+\n",
            "only showing top 20 rows\n",
            "\n"
          ]
        }
      ]
    },
    {
      "cell_type": "code",
      "source": [
        "vine_df = df.select([\"review_id\",\"star_rating\",\"helpful_votes\",\"total_votes\",\"vine\",\"verified_purchase\"])\n",
        "vine_df.show()"
      ],
      "metadata": {
        "colab": {
          "base_uri": "https://localhost:8080/"
        },
        "id": "p02IpAeOB9zP",
        "outputId": "35565593-8db4-4e9b-dfad-54dc7e32c192"
      },
      "execution_count": 10,
      "outputs": [
        {
          "output_type": "stream",
          "name": "stdout",
          "text": [
            "+--------------+-----------+-------------+-----------+----+-----------------+\n",
            "|     review_id|star_rating|helpful_votes|total_votes|vine|verified_purchase|\n",
            "+--------------+-----------+-------------+-----------+----+-----------------+\n",
            "|R3W4P9UBGNGH1U|          2|            1|          3|   N|                Y|\n",
            "|R15V54KBMTQWAY|          4|            0|          0|   N|                N|\n",
            "| RY8I449HNXSVF|          5|            0|          0|   N|                Y|\n",
            "|R18TLJYCKJFLSR|          5|            0|          0|   N|                Y|\n",
            "|R1NK26SWS53B8Q|          5|            0|          0|   N|                Y|\n",
            "|R11LOHEDYJALTN|          5|            0|          0|   N|                Y|\n",
            "|R3ALQVQB2P9LA7|          4|            0|          0|   N|                Y|\n",
            "|R3MWLXLNO21PDQ|          5|            0|          0|   N|                Y|\n",
            "|R2L15IS24CX0LI|          5|            0|          0|   N|                Y|\n",
            "|R1DJ8976WPWVZU|          3|            0|          0|   N|                Y|\n",
            "|R3MRWNNR8CBTB7|          5|            0|          0|   N|                Y|\n",
            "|R1DS6DKTUXAQK3|          5|            0|          0|   N|                Y|\n",
            "| RWJM5E0TWUJD2|          5|            0|          0|   N|                Y|\n",
            "|R1XTJKDYNCRGAC|          1|            0|          0|   N|                Y|\n",
            "|R2UZL3DPWEU1XW|          5|            0|          0|   N|                Y|\n",
            "|R2EZXET9KBFFU3|          1|            0|          0|   N|                Y|\n",
            "|R26VY1L1FD3LPU|          5|            0|          0|   N|                Y|\n",
            "|R2SSA4NSFCV18T|          5|            0|          0|   N|                N|\n",
            "|R1G6333JHJNEUQ|          5|            0|          0|   N|                Y|\n",
            "|R2DRG0UZXJQ0PE|          5|            0|          0|   N|                Y|\n",
            "+--------------+-----------+-------------+-----------+----+-----------------+\n",
            "only showing top 20 rows\n",
            "\n"
          ]
        }
      ]
    },
    {
      "cell_type": "code",
      "source": [
        "\n",
        "from pyspark.sql.functions import col\n",
        "\n",
        "#create a new DataFrame to retrieve all the rows where the total_votes count is equal to or greater than 20:\n",
        "df1=vine_df.filter(col(\"total_votes\")>=20)\n",
        "df1.show()\n"
      ],
      "metadata": {
        "id": "sXYlJMwMCgm7",
        "colab": {
          "base_uri": "https://localhost:8080/"
        },
        "outputId": "e225515c-4564-48fb-f275-5d04bbe6262d"
      },
      "execution_count": 11,
      "outputs": [
        {
          "output_type": "stream",
          "name": "stdout",
          "text": [
            "+--------------+-----------+-------------+-----------+----+-----------------+\n",
            "|     review_id|star_rating|helpful_votes|total_votes|vine|verified_purchase|\n",
            "+--------------+-----------+-------------+-----------+----+-----------------+\n",
            "|R2WOW0TURNXB26|          3|           54|         59|   N|                Y|\n",
            "|R13VL62Y2HBQ0B|          5|           15|         21|   N|                Y|\n",
            "|R22G55KAPZKJQV|          4|           20|         21|   N|                Y|\n",
            "|R1610PGTJS7G3N|          2|           28|         44|   N|                Y|\n",
            "| RLQL04BL0QXOJ|          4|           45|         47|   N|                Y|\n",
            "|R2AYJHH8WJNGAU|          4|           98|        104|   N|                Y|\n",
            "|R111DJA10Y6CMU|          5|           26|         39|   N|                Y|\n",
            "|R2EE2TR4MRDV0U|          5|           53|         59|   N|                Y|\n",
            "| RD4A80I5JDHED|          5|           69|         77|   N|                N|\n",
            "|R1GU6IYZQWQE8X|          2|           24|         25|   N|                Y|\n",
            "| RZOPM62JMW97V|          2|          103|        108|   N|                Y|\n",
            "|R21GLR3TD27ISV|          3|            4|         22|   N|                Y|\n",
            "|R1D3NR5GREEXXJ|          5|           57|         58|   N|                Y|\n",
            "|R24BMEHX5EWGEY|          2|           26|         30|   N|                Y|\n",
            "|R2WYKBQS8OR08O|          5|          168|        176|   N|                Y|\n",
            "|R3DL0Y1KWYLD5X|          5|           36|         37|   N|                Y|\n",
            "|R3EGDTFDMCOOG4|          5|           74|         90|   N|                N|\n",
            "|R1MC93W6WG9R3O|          1|           22|         22|   N|                Y|\n",
            "|R35B0B69DYR54L|          1|           18|         22|   N|                Y|\n",
            "|R1593EM56412NH|          4|           33|         37|   N|                Y|\n",
            "+--------------+-----------+-------------+-----------+----+-----------------+\n",
            "only showing top 20 rows\n",
            "\n"
          ]
        }
      ]
    },
    {
      "cell_type": "code",
      "source": [
        "df1.count()"
      ],
      "metadata": {
        "id": "jQGffbXmCkMW",
        "colab": {
          "base_uri": "https://localhost:8080/"
        },
        "outputId": "d8d5c44b-1bc2-499a-9361-b8fe1ab03cdf"
      },
      "execution_count": 12,
      "outputs": [
        {
          "output_type": "execute_result",
          "data": {
            "text/plain": [
              "72587"
            ]
          },
          "metadata": {},
          "execution_count": 12
        }
      ]
    },
    {
      "cell_type": "code",
      "source": [
        "df2=df1.filter((col(\"helpful_votes\"))/(col(\"total_votes\"))>=0.5)\n",
        "df2.show()"
      ],
      "metadata": {
        "colab": {
          "base_uri": "https://localhost:8080/"
        },
        "id": "9pz8GipNedw1",
        "outputId": "d0d88609-994e-4c4a-ad99-39b449f23767"
      },
      "execution_count": 13,
      "outputs": [
        {
          "output_type": "stream",
          "name": "stdout",
          "text": [
            "+--------------+-----------+-------------+-----------+----+-----------------+\n",
            "|     review_id|star_rating|helpful_votes|total_votes|vine|verified_purchase|\n",
            "+--------------+-----------+-------------+-----------+----+-----------------+\n",
            "|R2WOW0TURNXB26|          3|           54|         59|   N|                Y|\n",
            "|R13VL62Y2HBQ0B|          5|           15|         21|   N|                Y|\n",
            "|R22G55KAPZKJQV|          4|           20|         21|   N|                Y|\n",
            "|R1610PGTJS7G3N|          2|           28|         44|   N|                Y|\n",
            "| RLQL04BL0QXOJ|          4|           45|         47|   N|                Y|\n",
            "|R2AYJHH8WJNGAU|          4|           98|        104|   N|                Y|\n",
            "|R111DJA10Y6CMU|          5|           26|         39|   N|                Y|\n",
            "|R2EE2TR4MRDV0U|          5|           53|         59|   N|                Y|\n",
            "| RD4A80I5JDHED|          5|           69|         77|   N|                N|\n",
            "|R1GU6IYZQWQE8X|          2|           24|         25|   N|                Y|\n",
            "| RZOPM62JMW97V|          2|          103|        108|   N|                Y|\n",
            "|R1D3NR5GREEXXJ|          5|           57|         58|   N|                Y|\n",
            "|R24BMEHX5EWGEY|          2|           26|         30|   N|                Y|\n",
            "|R2WYKBQS8OR08O|          5|          168|        176|   N|                Y|\n",
            "|R3DL0Y1KWYLD5X|          5|           36|         37|   N|                Y|\n",
            "|R3EGDTFDMCOOG4|          5|           74|         90|   N|                N|\n",
            "|R1MC93W6WG9R3O|          1|           22|         22|   N|                Y|\n",
            "|R35B0B69DYR54L|          1|           18|         22|   N|                Y|\n",
            "|R1593EM56412NH|          4|           33|         37|   N|                Y|\n",
            "|R1KEP1DUJK2LD5|          5|           34|         42|   N|                Y|\n",
            "+--------------+-----------+-------------+-----------+----+-----------------+\n",
            "only showing top 20 rows\n",
            "\n"
          ]
        }
      ]
    },
    {
      "cell_type": "code",
      "source": [
        "df2.count()"
      ],
      "metadata": {
        "colab": {
          "base_uri": "https://localhost:8080/"
        },
        "id": "Qf5xTrOxegsG",
        "outputId": "ff8cf7f6-b1ff-4847-fdb6-f1016d4dfe29"
      },
      "execution_count": 14,
      "outputs": [
        {
          "output_type": "execute_result",
          "data": {
            "text/plain": [
              "65581"
            ]
          },
          "metadata": {},
          "execution_count": 14
        }
      ]
    },
    {
      "cell_type": "code",
      "source": [
        "df3_Y=df2.filter(col(\"vine\") == 'Y')\n",
        "df3_Y.show()"
      ],
      "metadata": {
        "colab": {
          "base_uri": "https://localhost:8080/"
        },
        "id": "bfycUgrBeok3",
        "outputId": "f33ec02e-df55-422b-c020-7312f02c09fd"
      },
      "execution_count": 15,
      "outputs": [
        {
          "output_type": "stream",
          "name": "stdout",
          "text": [
            "+--------------+-----------+-------------+-----------+----+-----------------+\n",
            "|     review_id|star_rating|helpful_votes|total_votes|vine|verified_purchase|\n",
            "+--------------+-----------+-------------+-----------+----+-----------------+\n",
            "|R1MAOLI5FJHAFM|          4|          249|        261|   Y|                N|\n",
            "| R9PYAUDIBJVEC|          4|           12|         22|   Y|                N|\n",
            "| R6V9SHMMG5M8F|          5|          101|        110|   Y|                N|\n",
            "|R37PVLT6ELL5J4|          4|          181|        209|   Y|                N|\n",
            "| R2FSFGWZF24V9|          4|           50|         51|   Y|                N|\n",
            "|R3SRW1E8J56IGV|          5|          262|        281|   Y|                N|\n",
            "| R86Z11D4CWOFM|          4|           32|         36|   Y|                N|\n",
            "| RNP01HW9YISJO|          4|           20|         23|   Y|                N|\n",
            "|R3KLACA6LCDZ0S|          3|           21|         22|   Y|                N|\n",
            "| RZEQYOT2RE0N7|          4|           75|         80|   Y|                N|\n",
            "|R2WBPX441TH495|          5|          202|        221|   Y|                N|\n",
            "|R2BYBSYHS66ZN8|          5|          109|        114|   Y|                N|\n",
            "|R3IF59PJGCNU3Q|          4|           42|         54|   Y|                N|\n",
            "|R2IXC6U7W4OCQ9|          5|          185|        201|   Y|                N|\n",
            "|R1JEI3H9QRP6PH|          5|           15|         22|   Y|                N|\n",
            "|R37L3KGRRR6JTL|          3|           38|         47|   Y|                N|\n",
            "|R1YJ7OKAEML92P|          5|           20|         22|   Y|                N|\n",
            "|R3JZJOD2512UVY|          4|           85|        101|   Y|                N|\n",
            "|R38MY3TK17MXDH|          4|           25|         32|   Y|                N|\n",
            "|R2LWISZ4DSM0I4|          5|           28|         33|   Y|                N|\n",
            "+--------------+-----------+-------------+-----------+----+-----------------+\n",
            "only showing top 20 rows\n",
            "\n"
          ]
        }
      ]
    },
    {
      "cell_type": "code",
      "source": [
        "df3_Y.count()"
      ],
      "metadata": {
        "colab": {
          "base_uri": "https://localhost:8080/"
        },
        "id": "QTAYD5DpeqhE",
        "outputId": "fdc6041c-c1ba-4019-abd4-3f9b4fc7f94f"
      },
      "execution_count": 16,
      "outputs": [
        {
          "output_type": "execute_result",
          "data": {
            "text/plain": [
              "613"
            ]
          },
          "metadata": {},
          "execution_count": 16
        }
      ]
    },
    {
      "cell_type": "code",
      "source": [
        "df3_N=df2.filter(col(\"vine\") == 'N')\n",
        "df3_N.show()"
      ],
      "metadata": {
        "colab": {
          "base_uri": "https://localhost:8080/"
        },
        "id": "DGDX51pdetiq",
        "outputId": "3fde7bc7-ef0b-46e4-d7ee-1de7fd351f09"
      },
      "execution_count": 17,
      "outputs": [
        {
          "output_type": "stream",
          "name": "stdout",
          "text": [
            "+--------------+-----------+-------------+-----------+----+-----------------+\n",
            "|     review_id|star_rating|helpful_votes|total_votes|vine|verified_purchase|\n",
            "+--------------+-----------+-------------+-----------+----+-----------------+\n",
            "|R2WOW0TURNXB26|          3|           54|         59|   N|                Y|\n",
            "|R13VL62Y2HBQ0B|          5|           15|         21|   N|                Y|\n",
            "|R22G55KAPZKJQV|          4|           20|         21|   N|                Y|\n",
            "|R1610PGTJS7G3N|          2|           28|         44|   N|                Y|\n",
            "| RLQL04BL0QXOJ|          4|           45|         47|   N|                Y|\n",
            "|R2AYJHH8WJNGAU|          4|           98|        104|   N|                Y|\n",
            "|R111DJA10Y6CMU|          5|           26|         39|   N|                Y|\n",
            "|R2EE2TR4MRDV0U|          5|           53|         59|   N|                Y|\n",
            "| RD4A80I5JDHED|          5|           69|         77|   N|                N|\n",
            "|R1GU6IYZQWQE8X|          2|           24|         25|   N|                Y|\n",
            "| RZOPM62JMW97V|          2|          103|        108|   N|                Y|\n",
            "|R1D3NR5GREEXXJ|          5|           57|         58|   N|                Y|\n",
            "|R24BMEHX5EWGEY|          2|           26|         30|   N|                Y|\n",
            "|R2WYKBQS8OR08O|          5|          168|        176|   N|                Y|\n",
            "|R3DL0Y1KWYLD5X|          5|           36|         37|   N|                Y|\n",
            "|R3EGDTFDMCOOG4|          5|           74|         90|   N|                N|\n",
            "|R1MC93W6WG9R3O|          1|           22|         22|   N|                Y|\n",
            "|R35B0B69DYR54L|          1|           18|         22|   N|                Y|\n",
            "|R1593EM56412NH|          4|           33|         37|   N|                Y|\n",
            "|R1KEP1DUJK2LD5|          5|           34|         42|   N|                Y|\n",
            "+--------------+-----------+-------------+-----------+----+-----------------+\n",
            "only showing top 20 rows\n",
            "\n"
          ]
        }
      ]
    },
    {
      "cell_type": "code",
      "source": [
        "df3_N.count()"
      ],
      "metadata": {
        "colab": {
          "base_uri": "https://localhost:8080/"
        },
        "id": "tu3R7scKe9pD",
        "outputId": "9186e20a-daa4-4501-e0d8-393c3937c02f"
      },
      "execution_count": 18,
      "outputs": [
        {
          "output_type": "execute_result",
          "data": {
            "text/plain": [
              "64968"
            ]
          },
          "metadata": {},
          "execution_count": 18
        }
      ]
    },
    {
      "cell_type": "code",
      "source": [
        "#Determine the total number of reviews:\n",
        "total_reviews=df3_Y.count()+df3_N.count()\n",
        "total_reviews"
      ],
      "metadata": {
        "colab": {
          "base_uri": "https://localhost:8080/"
        },
        "id": "EqkhCaQlfI5L",
        "outputId": "61155248-6670-42e7-b050-5a2b5e2a8b20"
      },
      "execution_count": 19,
      "outputs": [
        {
          "output_type": "execute_result",
          "data": {
            "text/plain": [
              "65581"
            ]
          },
          "metadata": {},
          "execution_count": 19
        }
      ]
    },
    {
      "cell_type": "code",
      "source": [
        "#Determine the number of 5-star reviews:\n",
        "five_star_reviews=df2.filter(col(\"star_rating\")==5)\n",
        "five_star_reviews.show()"
      ],
      "metadata": {
        "colab": {
          "base_uri": "https://localhost:8080/"
        },
        "id": "sWSVdlrefe2E",
        "outputId": "7ffc1583-7d17-41d5-b508-2725846ee5f6"
      },
      "execution_count": 20,
      "outputs": [
        {
          "output_type": "stream",
          "name": "stdout",
          "text": [
            "+--------------+-----------+-------------+-----------+----+-----------------+\n",
            "|     review_id|star_rating|helpful_votes|total_votes|vine|verified_purchase|\n",
            "+--------------+-----------+-------------+-----------+----+-----------------+\n",
            "|R13VL62Y2HBQ0B|          5|           15|         21|   N|                Y|\n",
            "|R111DJA10Y6CMU|          5|           26|         39|   N|                Y|\n",
            "|R2EE2TR4MRDV0U|          5|           53|         59|   N|                Y|\n",
            "| RD4A80I5JDHED|          5|           69|         77|   N|                N|\n",
            "|R1D3NR5GREEXXJ|          5|           57|         58|   N|                Y|\n",
            "|R2WYKBQS8OR08O|          5|          168|        176|   N|                Y|\n",
            "|R3DL0Y1KWYLD5X|          5|           36|         37|   N|                Y|\n",
            "|R3EGDTFDMCOOG4|          5|           74|         90|   N|                N|\n",
            "|R1KEP1DUJK2LD5|          5|           34|         42|   N|                Y|\n",
            "| R6IEQ9100RX0O|          5|           49|         57|   N|                Y|\n",
            "|R2X6SBELMJP4PH|          5|           27|         34|   N|                N|\n",
            "|R1SFITLRSE3K7T|          5|           20|         23|   N|                Y|\n",
            "|R1EZ878XMIT67K|          5|           29|         35|   N|                N|\n",
            "|R359PHUFU7ZTXV|          5|           68|         72|   N|                N|\n",
            "|R1H2OA4AKOW67K|          5|           26|         29|   N|                N|\n",
            "|R3VM9PM5RHZW3C|          5|           93|         98|   N|                Y|\n",
            "|R1RNG6Q1ZQDX7Q|          5|           76|         86|   N|                N|\n",
            "|R1C1KRLWE6YJMY|          5|           49|         51|   N|                Y|\n",
            "| RMAAUEPV7VC18|          5|           22|         30|   N|                N|\n",
            "|R1QE0XSV1EKPLC|          5|           22|         26|   N|                Y|\n",
            "+--------------+-----------+-------------+-----------+----+-----------------+\n",
            "only showing top 20 rows\n",
            "\n"
          ]
        }
      ]
    },
    {
      "cell_type": "code",
      "source": [
        "five_star_reviews.count()"
      ],
      "metadata": {
        "colab": {
          "base_uri": "https://localhost:8080/"
        },
        "id": "dVjHTSEffgbT",
        "outputId": "eab5252d-a072-4724-effb-b657c0312035"
      },
      "execution_count": 21,
      "outputs": [
        {
          "output_type": "execute_result",
          "data": {
            "text/plain": [
              "30765"
            ]
          },
          "metadata": {},
          "execution_count": 21
        }
      ]
    },
    {
      "cell_type": "code",
      "source": [
        "five_star_reviews_paid=df3_Y.filter(col(\"star_rating\")==5)\n",
        "five_star_reviews_paid.show()"
      ],
      "metadata": {
        "colab": {
          "base_uri": "https://localhost:8080/"
        },
        "id": "ApQK7vaIfjUC",
        "outputId": "55eec806-665f-4e42-b391-88db702b2701"
      },
      "execution_count": 22,
      "outputs": [
        {
          "output_type": "stream",
          "name": "stdout",
          "text": [
            "+--------------+-----------+-------------+-----------+----+-----------------+\n",
            "|     review_id|star_rating|helpful_votes|total_votes|vine|verified_purchase|\n",
            "+--------------+-----------+-------------+-----------+----+-----------------+\n",
            "| R6V9SHMMG5M8F|          5|          101|        110|   Y|                N|\n",
            "|R3SRW1E8J56IGV|          5|          262|        281|   Y|                N|\n",
            "|R2WBPX441TH495|          5|          202|        221|   Y|                N|\n",
            "|R2BYBSYHS66ZN8|          5|          109|        114|   Y|                N|\n",
            "|R2IXC6U7W4OCQ9|          5|          185|        201|   Y|                N|\n",
            "|R1JEI3H9QRP6PH|          5|           15|         22|   Y|                N|\n",
            "|R1YJ7OKAEML92P|          5|           20|         22|   Y|                N|\n",
            "|R2LWISZ4DSM0I4|          5|           28|         33|   Y|                N|\n",
            "| RG10LRMYVLHNR|          5|          167|        171|   Y|                N|\n",
            "|R2MXU454V4UVLM|          5|           16|         25|   Y|                N|\n",
            "|R3QJWOT3FXGQ96|          5|           31|         32|   Y|                N|\n",
            "|R1HH9DAAK8PKUR|          5|          168|        189|   Y|                N|\n",
            "|R1WCUIM9G6NRRZ|          5|           81|         89|   Y|                N|\n",
            "|R3VWP0J1XIKDAZ|          5|           55|         65|   Y|                N|\n",
            "|R1PPQOBDEH8ZRD|          5|           60|         72|   Y|                N|\n",
            "|R1SOU7ZZ71YNNX|          5|           16|         21|   Y|                N|\n",
            "|  RNWG17CSYY5P|          5|           19|         23|   Y|                N|\n",
            "|R16LC6N5QO7MH3|          5|          126|        136|   Y|                N|\n",
            "|R1TFK2OG18H5ZG|          5|           18|         23|   Y|                N|\n",
            "|R1JBJTW7A20C1A|          5|           32|         41|   Y|                N|\n",
            "+--------------+-----------+-------------+-----------+----+-----------------+\n",
            "only showing top 20 rows\n",
            "\n"
          ]
        }
      ]
    },
    {
      "cell_type": "code",
      "source": [
        "five_star_reviews_paid.count()"
      ],
      "metadata": {
        "colab": {
          "base_uri": "https://localhost:8080/"
        },
        "id": "dIk_eio9fnTU",
        "outputId": "78175e35-95fa-4bec-a8ae-d62dd338fd69"
      },
      "execution_count": 23,
      "outputs": [
        {
          "output_type": "execute_result",
          "data": {
            "text/plain": [
              "222"
            ]
          },
          "metadata": {},
          "execution_count": 23
        }
      ]
    },
    {
      "cell_type": "code",
      "source": [
        "five_star_reviews_unpaid=df3_N.filter(col(\"star_rating\")==5)\n",
        "five_star_reviews_unpaid.show()"
      ],
      "metadata": {
        "colab": {
          "base_uri": "https://localhost:8080/"
        },
        "id": "rm3hgvTdfrZs",
        "outputId": "8b22fb0e-6336-49c1-bb4d-0f495c24cfb1"
      },
      "execution_count": 24,
      "outputs": [
        {
          "output_type": "stream",
          "name": "stdout",
          "text": [
            "+--------------+-----------+-------------+-----------+----+-----------------+\n",
            "|     review_id|star_rating|helpful_votes|total_votes|vine|verified_purchase|\n",
            "+--------------+-----------+-------------+-----------+----+-----------------+\n",
            "|R13VL62Y2HBQ0B|          5|           15|         21|   N|                Y|\n",
            "|R111DJA10Y6CMU|          5|           26|         39|   N|                Y|\n",
            "|R2EE2TR4MRDV0U|          5|           53|         59|   N|                Y|\n",
            "| RD4A80I5JDHED|          5|           69|         77|   N|                N|\n",
            "|R1D3NR5GREEXXJ|          5|           57|         58|   N|                Y|\n",
            "|R2WYKBQS8OR08O|          5|          168|        176|   N|                Y|\n",
            "|R3DL0Y1KWYLD5X|          5|           36|         37|   N|                Y|\n",
            "|R3EGDTFDMCOOG4|          5|           74|         90|   N|                N|\n",
            "|R1KEP1DUJK2LD5|          5|           34|         42|   N|                Y|\n",
            "| R6IEQ9100RX0O|          5|           49|         57|   N|                Y|\n",
            "|R2X6SBELMJP4PH|          5|           27|         34|   N|                N|\n",
            "|R1SFITLRSE3K7T|          5|           20|         23|   N|                Y|\n",
            "|R1EZ878XMIT67K|          5|           29|         35|   N|                N|\n",
            "|R359PHUFU7ZTXV|          5|           68|         72|   N|                N|\n",
            "|R1H2OA4AKOW67K|          5|           26|         29|   N|                N|\n",
            "|R3VM9PM5RHZW3C|          5|           93|         98|   N|                Y|\n",
            "|R1RNG6Q1ZQDX7Q|          5|           76|         86|   N|                N|\n",
            "|R1C1KRLWE6YJMY|          5|           49|         51|   N|                Y|\n",
            "| RMAAUEPV7VC18|          5|           22|         30|   N|                N|\n",
            "|R1QE0XSV1EKPLC|          5|           22|         26|   N|                Y|\n",
            "+--------------+-----------+-------------+-----------+----+-----------------+\n",
            "only showing top 20 rows\n",
            "\n"
          ]
        }
      ]
    },
    {
      "cell_type": "code",
      "source": [
        "five_star_reviews_unpaid.count()"
      ],
      "metadata": {
        "colab": {
          "base_uri": "https://localhost:8080/"
        },
        "id": "aDuL6RV6fuxy",
        "outputId": "e27af7eb-d0c2-4c72-8fe7-189895c67a7d"
      },
      "execution_count": 25,
      "outputs": [
        {
          "output_type": "execute_result",
          "data": {
            "text/plain": [
              "30543"
            ]
          },
          "metadata": {},
          "execution_count": 25
        }
      ]
    },
    {
      "cell_type": "code",
      "source": [
        "# 2-the percentage of 5-star reviews for paid reviews:\n",
        "five_star_reviews_paid.count()/five_star_reviews.count()"
      ],
      "metadata": {
        "colab": {
          "base_uri": "https://localhost:8080/"
        },
        "id": "TkXTMLSAfxpt",
        "outputId": "77b36285-6a40-4e9e-e8a3-fac7342e1958"
      },
      "execution_count": 26,
      "outputs": [
        {
          "output_type": "execute_result",
          "data": {
            "text/plain": [
              "0.007215992198927352"
            ]
          },
          "metadata": {},
          "execution_count": 26
        }
      ]
    },
    {
      "cell_type": "code",
      "source": [
        "# 2-the percentage of 5-star reviews for unpaid reviews:\n",
        "five_star_reviews_unpaid.count()/five_star_reviews.count()"
      ],
      "metadata": {
        "colab": {
          "base_uri": "https://localhost:8080/"
        },
        "id": "2T4P2EcHf5dh",
        "outputId": "dc8aa948-1355-44cc-c6fa-0c9de16a1148"
      },
      "execution_count": 27,
      "outputs": [
        {
          "output_type": "execute_result",
          "data": {
            "text/plain": [
              "0.9927840078010727"
            ]
          },
          "metadata": {},
          "execution_count": 27
        }
      ]
    },
    {
      "cell_type": "code",
      "source": [
        "#the percentage of 5 stars reviews compared to total paid reviews - with Vine\n",
        "five_star_reviews_paid.count()/df3_Y.count()"
      ],
      "metadata": {
        "colab": {
          "base_uri": "https://localhost:8080/"
        },
        "id": "Z9Ly5595gCjR",
        "outputId": "37d012b1-be6f-4c4a-c87d-b45f7c0e3685"
      },
      "execution_count": 28,
      "outputs": [
        {
          "output_type": "execute_result",
          "data": {
            "text/plain": [
              "0.3621533442088091"
            ]
          },
          "metadata": {},
          "execution_count": 28
        }
      ]
    },
    {
      "cell_type": "code",
      "source": [
        "#the percentage of 5 stars reviews compared to total paid reviews - No Vine\n",
        "five_star_reviews_unpaid.count()/df3_N.count()"
      ],
      "metadata": {
        "colab": {
          "base_uri": "https://localhost:8080/"
        },
        "id": "AOBULweggN48",
        "outputId": "06ac0a99-8bc2-47ad-9059-94da890e3af1"
      },
      "execution_count": 29,
      "outputs": [
        {
          "output_type": "execute_result",
          "data": {
            "text/plain": [
              "0.47012375323236055"
            ]
          },
          "metadata": {},
          "execution_count": 29
        }
      ]
    }
  ]
}